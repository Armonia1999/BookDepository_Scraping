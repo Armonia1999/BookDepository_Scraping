{
 "cells": [
  {
   "cell_type": "markdown",
   "id": "7346d6cf",
   "metadata": {},
   "source": [
    "# Top 100 Bestsellers on BookDepository"
   ]
  },
  {
   "cell_type": "markdown",
   "id": "4c838482",
   "metadata": {},
   "source": [
    "### In this project we will scrape https://www.bookdepository.com/  and extract relevant information to the top 100 bestseller books and transform them into a CSV file. \n",
    "\n",
    "### project outline:\n",
    "- Find the suitable pages url , since each page has 30 books in it, we need to scrape 4 pages.\n",
    "- Get the HTML file and parse it to get the info which we need: Book title, Author, publish date, ISBN and price.\n",
    "- create a DataFrame and load this data into it and transform it to a CSV file."
   ]
  },
  {
   "cell_type": "markdown",
   "id": "71406e11",
   "metadata": {},
   "source": [
    "## Let's Start ! "
   ]
  },
  {
   "cell_type": "code",
   "execution_count": 1,
   "id": "435b23b3",
   "metadata": {},
   "outputs": [],
   "source": [
    "# importing the libraries we need:\n",
    "\n",
    "import requests\n",
    "from bs4 import BeautifulSoup\n",
    "import pandas as pd"
   ]
  },
  {
   "cell_type": "code",
   "execution_count": 2,
   "id": "f77f4f42",
   "metadata": {},
   "outputs": [
    {
     "data": {
      "text/plain": [
       "200"
      ]
     },
     "execution_count": 2,
     "metadata": {},
     "output_type": "execute_result"
    }
   ],
   "source": [
    "# getting the html doc and parse it.\n",
    "\n",
    "base_url = 'https://www.bookdepository.com/bestsellers'\n",
    "response = requests.get(base_url)\n",
    "response.status_code"
   ]
  },
  {
   "cell_type": "code",
   "execution_count": 3,
   "id": "897c2d80",
   "metadata": {},
   "outputs": [],
   "source": [
    "doc = BeautifulSoup(response.content, 'html.parser')"
   ]
  },
  {
   "cell_type": "code",
   "execution_count": 4,
   "id": "65978d73",
   "metadata": {},
   "outputs": [
    {
     "data": {
      "text/plain": [
       "['Glucose Revolution',\n",
       " \"It Ends With Us: The most heartbreaking novel you'll ever read\",\n",
       " 'Verity',\n",
       " 'Seven Husbands of Evelyn Hugo',\n",
       " 'The Love Hypothesis']"
      ]
     },
     "execution_count": 4,
     "metadata": {},
     "output_type": "execute_result"
    }
   ],
   "source": [
    "# let's try and get the first 30 titles (from the first page).\n",
    "\n",
    "titles = []\n",
    "title_tags = doc.find_all('h3', class_='title')\n",
    "titles = [title.text.strip() for title in title_tags]\n",
    "titles[:5]"
   ]
  },
  {
   "cell_type": "code",
   "execution_count": 5,
   "id": "29db9695",
   "metadata": {},
   "outputs": [
    {
     "data": {
      "text/plain": [
       "['Jessie Inchauspe',\n",
       " 'Colleen Hoover',\n",
       " 'Colleen Hoover',\n",
       " 'Taylor Jenkins Reid',\n",
       " 'Ali Hazelwood']"
      ]
     },
     "execution_count": 5,
     "metadata": {},
     "output_type": "execute_result"
    }
   ],
   "source": [
    "# let's then grab the authors for first 30 books.\n",
    "\n",
    "authors  = []\n",
    "author_tags = doc.find_all('p', class_='author')\n",
    "authors = [author.text.strip() for author in author_tags]\n",
    "authors[:5]"
   ]
  },
  {
   "cell_type": "code",
   "execution_count": 6,
   "id": "3b935842",
   "metadata": {},
   "outputs": [
    {
     "data": {
      "text/plain": [
       "['9781780725239',\n",
       " '9781471156267',\n",
       " '9781408726600',\n",
       " '9781398515697',\n",
       " '9781408725764']"
      ]
     },
     "execution_count": 6,
     "metadata": {},
     "output_type": "execute_result"
    }
   ],
   "source": [
    "# so all of the rest we can get in the same fashion except the ISBN.\n",
    "# if we inspect the html file we can find an 'a' tag with an href attribute with a link that directs to the book.\n",
    "# and the last 13 digits are the ISBN itself :) \n",
    "\n",
    "ISBN = []\n",
    "ISBN_tags = doc.find_all('a', {'itemprop': 'url'})\n",
    "for isbn in ISBN_tags:\n",
    "    ISBN.append(isbn['href'][-13:])\n",
    "ISBN[:5]"
   ]
  },
  {
   "cell_type": "code",
   "execution_count": 7,
   "id": "2d3d3598",
   "metadata": {},
   "outputs": [
    {
     "data": {
      "text/plain": [
       "['https://www.bookdepository.com/bestsellers?page=1',\n",
       " 'https://www.bookdepository.com/bestsellers?page=2',\n",
       " 'https://www.bookdepository.com/bestsellers?page=3',\n",
       " 'https://www.bookdepository.com/bestsellers?page=4']"
      ]
     },
     "execution_count": 7,
     "metadata": {},
     "output_type": "execute_result"
    }
   ],
   "source": [
    "# now let's work out how to get the top 100 books instead of 30.\n",
    "# if we go to the bestsellers page and move to the next page the only change that happens to the url\n",
    "# is that it adds '?page={page_number}' , so lets create a list with them.\n",
    "\n",
    "base_url = 'https://www.bookdepository.com/bestsellers'\n",
    "\n",
    "all_urls = []\n",
    "for i in range(1,5):\n",
    "    all_urls.append(base_url + f\"?page={i}\")\n",
    "    \n",
    "all_urls"
   ]
  },
  {
   "cell_type": "code",
   "execution_count": 8,
   "id": "d7685b38",
   "metadata": {},
   "outputs": [],
   "source": [
    "# now lets build functions to get the work done. .\n",
    "\n",
    "def get_titles(doc): \n",
    "    titles = []\n",
    "    title_tags = doc.find_all('h3', class_='title')\n",
    "    titles = [title.text.strip() for title in title_tags]\n",
    "    return titles\n",
    "\n",
    "\n",
    "def get_authors(doc):\n",
    "    authors  = []\n",
    "    author_tags = doc.find_all('p', class_='author')\n",
    "    authors = [author.text.strip() for author in author_tags]\n",
    "    return authors\n",
    "\n",
    "\n",
    "def get_publish_dates(doc):\n",
    "    dates = []\n",
    "    date_tags = doc.find_all('p', class_='published')\n",
    "    dates = [date.text.strip() for date in date_tags]\n",
    "    return dates\n",
    "\n",
    "\n",
    "def get_prices(doc):\n",
    "    prices = []\n",
    "    price_tags = doc.find_all('div', class_='price-wrap')  # we use the price wrap and not price because not all books have it.\n",
    "    prices = [price.text.strip() for price in price_tags]\n",
    "    return prices \n",
    "\n",
    "\n",
    "def get_ISBN(doc):\n",
    "    ISBN = []\n",
    "    ISBN_tags = doc.find_all('a', {'itemprop': 'url'})\n",
    "    for isbn in ISBN_tags:\n",
    "        ISBN.append(isbn['href'][-13:])\n",
    "    return ISBN"
   ]
  },
  {
   "cell_type": "code",
   "execution_count": 9,
   "id": "265cec6e",
   "metadata": {},
   "outputs": [],
   "source": [
    "# Big function to cover all:\n",
    "\n",
    "def Scrape(url):\n",
    "    \n",
    "    response = requests.get(url)\n",
    "    doc = BeautifulSoup(response.content, 'html.parser')\n",
    "    \n",
    "    titles = get_titles(doc)\n",
    "    authors = get_authors(doc)\n",
    "    dates = get_publish_dates(doc)\n",
    "    prices = get_prices(doc)\n",
    "    ISBN = get_ISBN(doc)\n",
    "    \n",
    "    scrape_dict = {\n",
    "        'Book Title': titles,\n",
    "        'Author': authors,\n",
    "        'Publish Date': dates,\n",
    "        'Price': prices,\n",
    "        'ISBN 13': ISBN\n",
    "    }\n",
    "    \n",
    "    df = pd.DataFrame(scrape_dict)\n",
    "    return df"
   ]
  },
  {
   "cell_type": "code",
   "execution_count": 10,
   "id": "abc45a8b",
   "metadata": {},
   "outputs": [
    {
     "data": {
      "text/html": [
       "<div>\n",
       "<style scoped>\n",
       "    .dataframe tbody tr th:only-of-type {\n",
       "        vertical-align: middle;\n",
       "    }\n",
       "\n",
       "    .dataframe tbody tr th {\n",
       "        vertical-align: top;\n",
       "    }\n",
       "\n",
       "    .dataframe thead th {\n",
       "        text-align: right;\n",
       "    }\n",
       "</style>\n",
       "<table border=\"1\" class=\"dataframe\">\n",
       "  <thead>\n",
       "    <tr style=\"text-align: right;\">\n",
       "      <th></th>\n",
       "      <th>Book Title</th>\n",
       "      <th>Author</th>\n",
       "      <th>Publish Date</th>\n",
       "      <th>Price</th>\n",
       "      <th>ISBN 13</th>\n",
       "    </tr>\n",
       "  </thead>\n",
       "  <tbody>\n",
       "    <tr>\n",
       "      <th>0</th>\n",
       "      <td>Glucose Revolution</td>\n",
       "      <td>Jessie Inchauspe</td>\n",
       "      <td>31 Mar 2022</td>\n",
       "      <td>₪67.71</td>\n",
       "      <td>9781780725239</td>\n",
       "    </tr>\n",
       "    <tr>\n",
       "      <th>1</th>\n",
       "      <td>It Ends With Us: The most heartbreaking novel ...</td>\n",
       "      <td>Colleen Hoover</td>\n",
       "      <td>02 Aug 2016</td>\n",
       "      <td>₪46.54</td>\n",
       "      <td>9781471156267</td>\n",
       "    </tr>\n",
       "    <tr>\n",
       "      <th>2</th>\n",
       "      <td>Verity</td>\n",
       "      <td>Colleen Hoover</td>\n",
       "      <td>20 Jan 2022</td>\n",
       "      <td>₪44.25</td>\n",
       "      <td>9781408726600</td>\n",
       "    </tr>\n",
       "    <tr>\n",
       "      <th>3</th>\n",
       "      <td>Seven Husbands of Evelyn Hugo</td>\n",
       "      <td>Taylor Jenkins Reid</td>\n",
       "      <td>14 Oct 2021</td>\n",
       "      <td>₪46.81</td>\n",
       "      <td>9781398515697</td>\n",
       "    </tr>\n",
       "    <tr>\n",
       "      <th>4</th>\n",
       "      <td>The Love Hypothesis</td>\n",
       "      <td>Ali Hazelwood</td>\n",
       "      <td>21 Oct 2021</td>\n",
       "      <td>₪44.65</td>\n",
       "      <td>9781408725764</td>\n",
       "    </tr>\n",
       "  </tbody>\n",
       "</table>\n",
       "</div>"
      ],
      "text/plain": [
       "                                          Book Title               Author  \\\n",
       "0                                 Glucose Revolution     Jessie Inchauspe   \n",
       "1  It Ends With Us: The most heartbreaking novel ...       Colleen Hoover   \n",
       "2                                             Verity       Colleen Hoover   \n",
       "3                      Seven Husbands of Evelyn Hugo  Taylor Jenkins Reid   \n",
       "4                                The Love Hypothesis        Ali Hazelwood   \n",
       "\n",
       "  Publish Date   Price        ISBN 13  \n",
       "0  31 Mar 2022  ₪67.71  9781780725239  \n",
       "1  02 Aug 2016  ₪46.54  9781471156267  \n",
       "2  20 Jan 2022  ₪44.25  9781408726600  \n",
       "3  14 Oct 2021  ₪46.81  9781398515697  \n",
       "4  21 Oct 2021  ₪44.65  9781408725764  "
      ]
     },
     "execution_count": 10,
     "metadata": {},
     "output_type": "execute_result"
    }
   ],
   "source": [
    "df  = Scrape(all_urls[0])\n",
    "df.head()"
   ]
  },
  {
   "cell_type": "code",
   "execution_count": 11,
   "id": "c42a247c",
   "metadata": {},
   "outputs": [],
   "source": [
    "# concat the dataframes of all 4 pages.\n",
    "\n",
    "total = [Scrape(all_urls[0]), Scrape(all_urls[1]), Scrape(all_urls[2]), Scrape(all_urls[3])]\n",
    "total_df= pd.concat(total)"
   ]
  },
  {
   "cell_type": "code",
   "execution_count": 12,
   "id": "744bc36c",
   "metadata": {},
   "outputs": [],
   "source": [
    "# we notice that the price column is a bit messy.. some prices have in them both of the original price and the discounted one.\n",
    "# and some without a price because it's out of stock.\n",
    "# lets choose only the original prices, and those with no price to put zero in it. and convert all to floats.\n",
    "\n",
    "def fix_price(x):\n",
    "    if len(x) == 0:\n",
    "        return 0\n",
    "    else:\n",
    "        try:\n",
    "            index_backslash = x.index(\"\\\\\")\n",
    "        except:\n",
    "            return float(x.split('₪')[1])\n",
    "        else: \n",
    "            first_str = x.split('₪')[1]    # you can replace with whatever currency your browser displays.\n",
    "            return float(first_str[:index_backslash])    "
   ]
  },
  {
   "cell_type": "code",
   "execution_count": 13,
   "id": "60a7ff9a",
   "metadata": {},
   "outputs": [
    {
     "data": {
      "text/html": [
       "<div>\n",
       "<style scoped>\n",
       "    .dataframe tbody tr th:only-of-type {\n",
       "        vertical-align: middle;\n",
       "    }\n",
       "\n",
       "    .dataframe tbody tr th {\n",
       "        vertical-align: top;\n",
       "    }\n",
       "\n",
       "    .dataframe thead th {\n",
       "        text-align: right;\n",
       "    }\n",
       "</style>\n",
       "<table border=\"1\" class=\"dataframe\">\n",
       "  <thead>\n",
       "    <tr style=\"text-align: right;\">\n",
       "      <th></th>\n",
       "      <th>Book Title</th>\n",
       "      <th>Author</th>\n",
       "      <th>Publish Date</th>\n",
       "      <th>Price</th>\n",
       "      <th>ISBN 13</th>\n",
       "    </tr>\n",
       "  </thead>\n",
       "  <tbody>\n",
       "    <tr>\n",
       "      <th>0</th>\n",
       "      <td>Glucose Revolution</td>\n",
       "      <td>Jessie Inchauspe</td>\n",
       "      <td>31 Mar 2022</td>\n",
       "      <td>67.71</td>\n",
       "      <td>9781780725239</td>\n",
       "    </tr>\n",
       "    <tr>\n",
       "      <th>1</th>\n",
       "      <td>It Ends With Us: The most heartbreaking novel ...</td>\n",
       "      <td>Colleen Hoover</td>\n",
       "      <td>02 Aug 2016</td>\n",
       "      <td>46.54</td>\n",
       "      <td>9781471156267</td>\n",
       "    </tr>\n",
       "    <tr>\n",
       "      <th>2</th>\n",
       "      <td>Verity</td>\n",
       "      <td>Colleen Hoover</td>\n",
       "      <td>20 Jan 2022</td>\n",
       "      <td>44.25</td>\n",
       "      <td>9781408726600</td>\n",
       "    </tr>\n",
       "    <tr>\n",
       "      <th>3</th>\n",
       "      <td>Seven Husbands of Evelyn Hugo</td>\n",
       "      <td>Taylor Jenkins Reid</td>\n",
       "      <td>14 Oct 2021</td>\n",
       "      <td>46.81</td>\n",
       "      <td>9781398515697</td>\n",
       "    </tr>\n",
       "    <tr>\n",
       "      <th>4</th>\n",
       "      <td>The Love Hypothesis</td>\n",
       "      <td>Ali Hazelwood</td>\n",
       "      <td>21 Oct 2021</td>\n",
       "      <td>44.65</td>\n",
       "      <td>9781408725764</td>\n",
       "    </tr>\n",
       "  </tbody>\n",
       "</table>\n",
       "</div>"
      ],
      "text/plain": [
       "                                          Book Title               Author  \\\n",
       "0                                 Glucose Revolution     Jessie Inchauspe   \n",
       "1  It Ends With Us: The most heartbreaking novel ...       Colleen Hoover   \n",
       "2                                             Verity       Colleen Hoover   \n",
       "3                      Seven Husbands of Evelyn Hugo  Taylor Jenkins Reid   \n",
       "4                                The Love Hypothesis        Ali Hazelwood   \n",
       "\n",
       "  Publish Date  Price        ISBN 13  \n",
       "0  31 Mar 2022  67.71  9781780725239  \n",
       "1  02 Aug 2016  46.54  9781471156267  \n",
       "2  20 Jan 2022  44.25  9781408726600  \n",
       "3  14 Oct 2021  46.81  9781398515697  \n",
       "4  21 Oct 2021  44.65  9781408725764  "
      ]
     },
     "execution_count": 13,
     "metadata": {},
     "output_type": "execute_result"
    }
   ],
   "source": [
    "total_df['Price'] = total_df['Price'].apply(fix_price)\n",
    "total_df.head()"
   ]
  },
  {
   "cell_type": "code",
   "execution_count": 14,
   "id": "b6588daa",
   "metadata": {},
   "outputs": [],
   "source": [
    "# now we convert to a csv file. keep in mind we have 120 books in this DataFrame so let's omit the last 20 rows.\n",
    "# the file will be created and saved in the same directory.\n",
    "total_df[:100].to_csv('Top 100 Bestsellers.csv', index=False)"
   ]
  },
  {
   "cell_type": "markdown",
   "id": "ebb3ce7d",
   "metadata": {},
   "source": [
    "### By running the last cell, a file with the name 'Top 100 Bestsellers' should be created in the directory of your project."
   ]
  }
 ],
 "metadata": {
  "kernelspec": {
   "display_name": "Python 3",
   "language": "python",
   "name": "python3"
  },
  "language_info": {
   "codemirror_mode": {
    "name": "ipython",
    "version": 3
   },
   "file_extension": ".py",
   "mimetype": "text/x-python",
   "name": "python",
   "nbconvert_exporter": "python",
   "pygments_lexer": "ipython3",
   "version": "3.8.8"
  }
 },
 "nbformat": 4,
 "nbformat_minor": 5
}
